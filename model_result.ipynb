{
 "cells": [
  {
   "cell_type": "code",
   "execution_count": 2,
   "id": "01762100",
   "metadata": {},
   "outputs": [],
   "source": [
    "import os\n",
    "import shutil\n",
    "import yaml\n",
    "\n",
    "import torch\n",
    "import torch.utils.data\n",
    "import torchvision.transforms as transforms\n",
    "import torchvision.datasets as datasets\n",
    "import numpy as np\n",
    "import cv2\n",
    "\n",
    "import argparse\n",
    "import re\n",
    "from tqdm import tqdm\n",
    "\n",
    "from src.utils.helpers import makedir\n",
    "from src.models import seg_model\n",
    "from src.training import push\n",
    "from src.training import prune\n",
    "from src.training import train_and_test as tnt\n",
    "\n",
    "from src.utils import save\n",
    "from src.utils.log import create_logger\n",
    "import logging\n",
    "from src.data.raman_dataset import get_new_raman_path, create_raman_mask_dataloaders_from_ids\n",
    "\n",
    "import matplotlib.pyplot as plt"
   ]
  },
  {
   "cell_type": "code",
   "execution_count": 3,
   "id": "198e2b0e",
   "metadata": {},
   "outputs": [],
   "source": [
    "logging.basicConfig(level=logging.INFO)"
   ]
  },
  {
   "cell_type": "code",
   "execution_count": 5,
   "id": "237655f5",
   "metadata": {},
   "outputs": [
    {
     "name": "stderr",
     "output_type": "stream",
     "text": [
      "/tmp/ipykernel_515077/455367661.py:3: FutureWarning: You are using `torch.load` with `weights_only=False` (the current default value), which uses the default pickle module implicitly. It is possible to construct malicious pickle data which will execute arbitrary code during unpickling (See https://github.com/pytorch/pytorch/blob/main/SECURITY.md#untrusted-models for more details). In a future release, the default value for `weights_only` will be flipped to `True`. This limits the functions that could be executed during unpickling. Arbitrary objects will no longer be allowed to be loaded via this mode unless they are explicitly allowlisted by the user via `torch.serialization.add_safe_globals`. We recommend you start setting `weights_only=True` for any use case where you don't have full control of the loaded file. Please open an issue on GitHub for any issues related to this experimental feature.\n",
      "  model = torch.load(model_path)\n"
     ]
    },
    {
     "data": {
      "text/plain": [
       "PPNet(\n",
       "\tfeatures: resnet18_features,\n",
       "\timg_size: 512,\n",
       "\tprototype_shape: (30, 64, 1, 1),\n",
       "\tproto_layer_rf_info: [16, 32, 435, 0.5],\n",
       "\tnum_classes: 2,\n",
       "\tepsilon: 0.0001\n",
       ")"
      ]
     },
     "execution_count": 5,
     "metadata": {},
     "output_type": "execute_result"
    }
   ],
   "source": [
    "model_path = \"out_model/saved_models/resnet18/optuna_trial_9/14nopush0.6881.pth\"\n",
    "# load the model\n",
    "model = torch.load(model_path)\n",
    "model"
   ]
  },
  {
   "cell_type": "code",
   "execution_count": 6,
   "id": "6b9ab72e",
   "metadata": {},
   "outputs": [],
   "source": [
    "# config for training\n",
    "config_file = \"./configs/unet_segment_newdata.yaml\"\n",
    "with open(config_file, \"r\") as stream:\n",
    "    conf = yaml.safe_load(stream)\n",
    "conf[\"training\"][\"stride\"] = [512, 512]"
   ]
  },
  {
   "cell_type": "markdown",
   "id": "9bce72f4",
   "metadata": {},
   "source": [
    "# Check generation"
   ]
  },
  {
   "cell_type": "code",
   "execution_count": 7,
   "id": "b63f6d74",
   "metadata": {},
   "outputs": [],
   "source": [
    "def collect_raman_channels(raman_id):\n",
    "    \"\"\"\n",
    "    Load and combine SRS, DC, and AUX channels into a single torch tensor.\n",
    "\n",
    "    Channels:\n",
    "     - 0-20: SRS\n",
    "     - 21   : DC\n",
    "     - 22-23: AUX\n",
    "\n",
    "    Returns:\n",
    "        torch.FloatTensor of shape (24, H, W)\n",
    "    \"\"\"\n",
    "    # get the paths to your data files\n",
    "    raman_paths = get_new_raman_path(raman_id)\n",
    "\n",
    "    # load SRS-normalized data (shape: H x W x C>=24)\n",
    "    srs_norm_np = np.load(raman_paths[\"srs_norm\"], mmap_mode='r')\n",
    "    H, W = srs_norm_np.shape[:2]\n",
    "\n",
    "    # extract the 21 SRS channels (0–20) and the 2 AUX channels (22–23)\n",
    "    srs = srs_norm_np[:, :, :21]  # (H, W, 21)\n",
    "    aux = srs_norm_np[:, :, 22:24]  # (H, W,  2)\n",
    "\n",
    "    # load raw DC data (e.g. H x W x N), collapse the 3rd dim by mean\n",
    "    dc_orig_np = np.load(raman_paths[\"dc_orig\"], mmap_mode='r')\n",
    "    dc = np.mean(dc_orig_np, axis=2)  # (H, W)\n",
    "\n",
    "    # convert to torch and reorder to (C, H, W)\n",
    "    srs_t = torch.from_numpy(srs).float().permute(2, 0, 1)  # (21, H, W)\n",
    "    dc_t = torch.from_numpy(dc).float().unsqueeze(0)  # ( 1, H, W)\n",
    "    aux_t = torch.from_numpy(aux).float().permute(2, 0, 1)  # ( 2, H, W)\n",
    "\n",
    "    # normalize DC to [0,1]\n",
    "    dc_min, dc_max = dc_t.min(), dc_t.max()\n",
    "    if dc_max > dc_min:\n",
    "        dc_t = (dc_t - dc_min) / (dc_max - dc_min)\n",
    "    else:\n",
    "        dc_t = dc_t - dc_min\n",
    "\n",
    "    # stack into (24, H, W)\n",
    "    combined = torch.cat([srs_t, dc_t, aux_t], dim=0)\n",
    "    return combined\n"
   ]
  },
  {
   "cell_type": "code",
   "execution_count": 8,
   "id": "f3175bcb",
   "metadata": {},
   "outputs": [
    {
     "name": "stderr",
     "output_type": "stream",
     "text": [
      "/tmp/ipykernel_515077/750622195.py:29: UserWarning: The given NumPy array is not writable, and PyTorch does not support non-writable tensors. This means writing to this tensor will result in undefined behavior. You may want to copy the array to protect its data or make it writable before converting it to a tensor. This type of warning will be suppressed for the rest of this program. (Triggered internally at /home/conda/feedstock_root/build_artifacts/libtorch_1736238290654/work/torch/csrc/utils/tensor_numpy.cpp:206.)\n",
      "  srs_t = torch.from_numpy(srs).float().permute(2, 0, 1)  # (21, H, W)\n"
     ]
    },
    {
     "data": {
      "text/plain": [
       "torch.Size([24, 4608, 9984])"
      ]
     },
     "execution_count": 8,
     "metadata": {},
     "output_type": "execute_result"
    }
   ],
   "source": [
    "raman_id = 'E919-24_sample2_1'\n",
    "raman_channels = collect_raman_channels(raman_id)\n",
    "raman_channels.shape"
   ]
  },
  {
   "cell_type": "code",
   "execution_count": 9,
   "id": "b2bdf62a",
   "metadata": {},
   "outputs": [],
   "source": [
    "def load_gt_mask(raman_id, new_w, new_h):\n",
    "    gt_mask_path = f\"/home/ct678/aligned_masks/{raman_id}.npy\"\n",
    "    gt_mask = np.load(gt_mask_path, mmap_mode='r')\n",
    "    gt_mask = cv2.resize(gt_mask, (new_w, new_h), interpolation=cv2.INTER_NEAREST)\n",
    "\n",
    "    gt_mask[gt_mask == 1] = 1\n",
    "    gt_mask[gt_mask == 4] = 1\n",
    "    gt_mask[gt_mask == 15] = 1\n",
    "    gt_mask[gt_mask != 1] = 0\n",
    "    return gt_mask\n",
    "\n",
    "gt_mask = load_gt_mask(raman_id, raman_channels.shape[2], raman_channels.shape[1])"
   ]
  },
  {
   "cell_type": "code",
   "execution_count": 10,
   "id": "76dfbc50",
   "metadata": {},
   "outputs": [],
   "source": [
    "ph, pw = conf[\"training\"][\"patch_size\"]\n",
    "def patchify(big_img_chw):\n",
    "    \"\"\"\n",
    "    Patchifies an image (C, H, W) into patches (N, C, ph, pw).\n",
    "    Note: This version crops the image if H or W are not multiples of ph or pw.\n",
    "    \"\"\"\n",
    "    C, H, W = big_img_chw.shape\n",
    "    # Calculate how many patches fit along height and width\n",
    "    num_patches_h = H // ph\n",
    "    num_patches_w = W // pw\n",
    "\n",
    "    # Crop the image to the largest size that is perfectly divisible\n",
    "    cropped_h = num_patches_h * ph\n",
    "    cropped_w = num_patches_w * pw\n",
    "    cropped_img = big_img_chw[:, :cropped_h, :cropped_w]\n",
    "\n",
    "    # unfold expects (C, H, W)\n",
    "    # Output of unfold: (C, num_blocks_h, num_blocks_w, ph, pw)\n",
    "    patches = cropped_img.unfold(1, ph, ph).unfold(2, pw, pw)\n",
    "    # patches shape: (C, num_patches_h, num_patches_w, ph, pw)\n",
    "\n",
    "    # Permute and reshape to (num_patches_h * num_patches_w, C, ph, pw)\n",
    "    patches = patches.permute(1, 2, 0, 3, 4).contiguous()\n",
    "    # patches shape: (num_patches_h, num_patches_w, C, ph, pw)\n",
    "    patches = patches.view(-1, C, ph, pw)\n",
    "    # patches shape: (num_total_patches, C, ph, pw)\n",
    "    return patches, (C, cropped_h, cropped_w) # Return patches and the shape they can reconstruct\n",
    "\n",
    "def unpatchify(patches, reconstructed_shape_chw):\n",
    "    \"\"\"\n",
    "    Reconstructs the image from patches.\n",
    "    patches: (N, C, ph, pw)\n",
    "    reconstructed_shape_chw: The target shape (C, H_reconstructed, W_reconstructed)\n",
    "                             This should be the shape of the image that was patchified\n",
    "                             (i.e., potentially cropped original image).\n",
    "    \"\"\"\n",
    "    C, H_reconstructed, W_reconstructed = reconstructed_shape_chw\n",
    "    num_patches_h = H_reconstructed // ph\n",
    "    num_patches_w = W_reconstructed // pw\n",
    "\n",
    "    if patches.shape[0] != num_patches_h * num_patches_w:\n",
    "        raise ValueError(f\"Number of patches {patches.shape[0]} does not match \"\n",
    "                         f\"expected {num_patches_h * num_patches_w} for shape {reconstructed_shape_chw}\")\n",
    "    if patches.shape[1] != C:\n",
    "        raise ValueError(f\"Patch channel count {patches.shape[1]} does not match \"\n",
    "                         f\"expected {C} for shape {reconstructed_shape_chw}\")\n",
    "\n",
    "\n",
    "    # Reshape to (num_patches_h, num_patches_w, C, ph, pw)\n",
    "    patches = patches.view(num_patches_h, num_patches_w, C, ph, pw)\n",
    "\n",
    "    # Permute to (C, num_patches_h, ph, num_patches_w, pw)\n",
    "    # This groups patch data by channel, then by patch rows, then patch content height,\n",
    "    # then by patch columns, then patch content width.\n",
    "    rearranged = patches.permute(2, 0, 3, 1, 4).contiguous()\n",
    "\n",
    "    # Reshape to (C, H_reconstructed, W_reconstructed)\n",
    "    return rearranged.view(C, H_reconstructed, W_reconstructed)"
   ]
  },
  {
   "cell_type": "code",
   "execution_count": 11,
   "id": "7b1b61e9",
   "metadata": {},
   "outputs": [
    {
     "data": {
      "text/plain": [
       "(torch.Size([171, 24, 512, 512]), (24, 4608, 9728))"
      ]
     },
     "execution_count": 11,
     "metadata": {},
     "output_type": "execute_result"
    }
   ],
   "source": [
    "patched_raman, recon_shape = patchify(raman_channels)\n",
    "patched_raman.shape, recon_shape"
   ]
  },
  {
   "cell_type": "code",
   "execution_count": 12,
   "id": "16ab0be8",
   "metadata": {},
   "outputs": [
    {
     "name": "stderr",
     "output_type": "stream",
     "text": [
      "Processing patches: 0it [00:00, ?it/s]"
     ]
    },
    {
     "name": "stderr",
     "output_type": "stream",
     "text": [
      "Processing patches: 171it [00:02, 82.55it/s] \n"
     ]
    },
    {
     "data": {
      "text/plain": [
       "torch.Size([1, 4608, 9728])"
      ]
     },
     "execution_count": 12,
     "metadata": {},
     "output_type": "execute_result"
    }
   ],
   "source": [
    "seg_mask_patches = torch.zeros(patched_raman.shape[0], 1, ph, pw)\n",
    "for i, patch in tqdm(enumerate(patched_raman), desc=\"Processing patches\"):\n",
    "    patch = patch.cuda()\n",
    "    with torch.inference_mode():\n",
    "        patch = patch.unsqueeze(0)\n",
    "        logits, _ = model(patch)\n",
    "        pred = torch.argmax(logits, dim=1).squeeze(0)\n",
    "    seg_mask_patches[i, 0] = pred\n",
    "seg_mask = unpatchify(seg_mask_patches, (1, *recon_shape[1:]))\n",
    "seg_mask.shape"
   ]
  },
  {
   "cell_type": "code",
   "execution_count": 13,
   "id": "f64fd578",
   "metadata": {},
   "outputs": [
    {
     "name": "stdout",
     "output_type": "stream",
     "text": [
      "Dice score: 0.6251\n"
     ]
    }
   ],
   "source": [
    "cropped_gt_mask = gt_mask[:seg_mask.shape[1], :seg_mask.shape[2]]\n",
    "intersection = np.sum(seg_mask.squeeze().numpy() * cropped_gt_mask.squeeze())\n",
    "union = np.sum(seg_mask.squeeze().numpy()) + np.sum(cropped_gt_mask.squeeze())\n",
    "dice_score = 2 * intersection / union if union > 0 else 0\n",
    "print(f\"Dice score: {dice_score:.4f}\")"
   ]
  },
  {
   "cell_type": "code",
   "execution_count": 14,
   "id": "9f31e479",
   "metadata": {},
   "outputs": [
    {
     "data": {
      "text/plain": [
       "<matplotlib.image.AxesImage at 0x7f3aa341be10>"
      ]
     },
     "execution_count": 14,
     "metadata": {},
     "output_type": "execute_result"
    },
    {
     "data": {
      "image/png": "[encoded data removed]",
      "text/plain": [
       "<Figure size 640x480 with 1 Axes>"
      ]
     },
     "metadata": {},
     "output_type": "display_data"
    }
   ],
   "source": [
    "plt.imshow(seg_mask[0].cpu().numpy(), cmap='gray')"
   ]
  },
  {
   "cell_type": "markdown",
   "id": "b97b4956",
   "metadata": {},
   "source": [
    "# Mean Dice Score on Val/Test"
   ]
  },
  {
   "cell_type": "code",
   "execution_count": 32,
   "id": "c25ef3cb",
   "metadata": {},
   "outputs": [],
   "source": [
    "holdout_ids = [\n",
    "    \"E119-24_sample1_1-half1\",\n",
    "    \"E119-24_sample1_2\",\n",
    "    \"E119-24_sample2_1_half1\",\n",
    "    \"E119-24_sample2_1_half2\",\n",
    "    \"E919-24_sample1_1\",\n",
    "    \"E919-24_sample1_2\",\n",
    "    \"E919-24_sample2_1\",\n",
    "    \"E919-24_sample2_2\",\n",
    "] + [\n",
    "    \"E341-24_sample3\",\n",
    "    \"E341-24_sample4\",\n",
    "    \"E341-24_sample5\",\n",
    "    \"E341-24_sample6\",\n",
    "    \"E341-24_sample7\",\n",
    "]"
   ]
  },
  {
   "cell_type": "code",
   "execution_count": 33,
   "id": "2bedcd9d",
   "metadata": {},
   "outputs": [
    {
     "name": "stderr",
     "output_type": "stream",
     "text": [
      "Processing patches for E119-24_sample1_1-half1: 180it [00:00, 183.92it/s]\n"
     ]
    },
    {
     "name": "stdout",
     "output_type": "stream",
     "text": [
      "Dice score for E119-24_sample1_1-half1: 0.4872\n"
     ]
    },
    {
     "name": "stderr",
     "output_type": "stream",
     "text": [
      "Processing patches for E119-24_sample1_2: 72it [00:00, 190.13it/s]\n"
     ]
    },
    {
     "name": "stdout",
     "output_type": "stream",
     "text": [
      "Dice score for E119-24_sample1_2: 0.2983\n"
     ]
    },
    {
     "name": "stderr",
     "output_type": "stream",
     "text": [
      "Processing patches for E119-24_sample2_1_half1: 180it [00:01, 170.95it/s]\n"
     ]
    },
    {
     "name": "stdout",
     "output_type": "stream",
     "text": [
      "Dice score for E119-24_sample2_1_half1: 0.6748\n"
     ]
    },
    {
     "name": "stderr",
     "output_type": "stream",
     "text": [
      "Processing patches for E119-24_sample2_1_half2: 180it [00:01, 178.65it/s]\n"
     ]
    },
    {
     "name": "stdout",
     "output_type": "stream",
     "text": [
      "Dice score for E119-24_sample2_1_half2: 0.4779\n"
     ]
    },
    {
     "name": "stderr",
     "output_type": "stream",
     "text": [
      "Processing patches for E919-24_sample1_1: 128it [00:00, 187.73it/s]\n"
     ]
    },
    {
     "name": "stdout",
     "output_type": "stream",
     "text": [
      "Dice score for E919-24_sample1_1: 0.7114\n"
     ]
    },
    {
     "name": "stderr",
     "output_type": "stream",
     "text": [
      "Processing patches for E919-24_sample1_2: 105it [00:00, 186.45it/s]\n"
     ]
    },
    {
     "name": "stdout",
     "output_type": "stream",
     "text": [
      "Dice score for E919-24_sample1_2: 0.7766\n"
     ]
    },
    {
     "name": "stderr",
     "output_type": "stream",
     "text": [
      "Processing patches for E919-24_sample2_1: 171it [00:00, 190.45it/s]\n"
     ]
    },
    {
     "name": "stdout",
     "output_type": "stream",
     "text": [
      "Dice score for E919-24_sample2_1: 0.7745\n"
     ]
    },
    {
     "name": "stderr",
     "output_type": "stream",
     "text": [
      "Processing patches for E919-24_sample2_2: 171it [00:00, 196.75it/s]\n"
     ]
    },
    {
     "name": "stdout",
     "output_type": "stream",
     "text": [
      "Dice score for E919-24_sample2_2: 0.7789\n"
     ]
    },
    {
     "name": "stderr",
     "output_type": "stream",
     "text": [
      "Processing patches for E341-24_sample3: 110it [00:00, 185.84it/s]\n"
     ]
    },
    {
     "name": "stdout",
     "output_type": "stream",
     "text": [
      "Dice score for E341-24_sample3: 0.6526\n"
     ]
    },
    {
     "name": "stderr",
     "output_type": "stream",
     "text": [
      "Processing patches for E341-24_sample4: 110it [00:00, 187.64it/s]\n"
     ]
    },
    {
     "name": "stdout",
     "output_type": "stream",
     "text": [
      "Dice score for E341-24_sample4: 0.6701\n"
     ]
    },
    {
     "name": "stderr",
     "output_type": "stream",
     "text": [
      "Processing patches for E341-24_sample5: 110it [00:00, 186.30it/s]\n"
     ]
    },
    {
     "name": "stdout",
     "output_type": "stream",
     "text": [
      "Dice score for E341-24_sample5: 0.6964\n"
     ]
    },
    {
     "name": "stderr",
     "output_type": "stream",
     "text": [
      "Processing patches for E341-24_sample6: 110it [00:00, 184.57it/s]\n"
     ]
    },
    {
     "name": "stdout",
     "output_type": "stream",
     "text": [
      "Dice score for E341-24_sample6: 0.6304\n"
     ]
    },
    {
     "name": "stderr",
     "output_type": "stream",
     "text": [
      "Processing patches for E341-24_sample7: 99it [00:00, 170.21it/s]\n"
     ]
    },
    {
     "name": "stdout",
     "output_type": "stream",
     "text": [
      "Dice score for E341-24_sample7: 0.6453\n",
      "Average Dice score: 0.6365 ± 0.1339\n"
     ]
    }
   ],
   "source": [
    "dice_scores = []\n",
    "for raman_id in holdout_ids:\n",
    "    raman_channels = collect_raman_channels(raman_id)\n",
    "    gt_mask = load_gt_mask(raman_id, raman_channels.shape[2], raman_channels.shape[1])\n",
    "    patched_raman, recon_shape = patchify(raman_channels)\n",
    "\n",
    "    seg_mask_patches = torch.zeros(patched_raman.shape[0], 1, ph, pw)\n",
    "    for i, patch in tqdm(enumerate(patched_raman), desc=f\"Processing patches for {raman_id}\"):\n",
    "        patch = patch.cuda()\n",
    "        with torch.inference_mode():\n",
    "            patch = patch.unsqueeze(0)\n",
    "            logits, _ = model(patch)\n",
    "            pred = torch.argmax(logits, dim=1).squeeze(0)\n",
    "        seg_mask_patches[i, 0] = pred\n",
    "    seg_mask = unpatchify(seg_mask_patches, (1, *recon_shape[1:]))\n",
    "\n",
    "    cropped_gt_mask = gt_mask[:seg_mask.shape[1], :seg_mask.shape[2]]\n",
    "    intersection = np.sum(seg_mask.squeeze().cpu().numpy() * cropped_gt_mask.squeeze())\n",
    "    union = np.sum(seg_mask.squeeze().cpu().numpy()) + np.sum(cropped_gt_mask.squeeze())\n",
    "    dice_score = 2 * intersection / union if union > 0 else 0\n",
    "    dice_scores.append(dice_score)\n",
    "    print(f\"Dice score for {raman_id}: {dice_score:.4f}\")\n",
    "print(f\"Average Dice score: {np.mean(dice_scores):.4f} ± {np.std(dice_scores):.4f}\")"
   ]
  },
  {
   "cell_type": "code",
   "execution_count": null,
   "id": "3490f8b9",
   "metadata": {},
   "outputs": [],
   "source": []
  }
 ],
 "metadata": {
  "kernelspec": {
   "display_name": "charm-env",
   "language": "python",
   "name": "python3"
  },
  "language_info": {
   "codemirror_mode": {
    "name": "ipython",
    "version": 3
   },
   "file_extension": ".py",
   "mimetype": "text/x-python",
   "name": "python",
   "nbconvert_exporter": "python",
   "pygments_lexer": "ipython3",
   "version": "3.11.11"
  }
 },
 "nbformat": 4,
 "nbformat_minor": 5
}
