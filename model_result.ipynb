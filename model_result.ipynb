{
 "cells": [
  {
   "cell_type": "code",
   "execution_count": 1,
   "id": "01762100",
   "metadata": {},
   "outputs": [
    {
     "name": "stdout",
     "output_type": "stream",
     "text": [
      "WARNING: SquidPy package not installed. You won't be able to use segmentation masks in InMemoryStainData.\n"
     ]
    }
   ],
   "source": [
    "import os\n",
    "import shutil\n",
    "import yaml\n",
    "\n",
    "import torch\n",
    "import torch.utils.data\n",
    "import torchvision.transforms as transforms\n",
    "import torchvision.datasets as datasets\n",
    "import numpy as np\n",
    "import cv2\n",
    "\n",
    "import argparse\n",
    "import re\n",
    "from tqdm import tqdm\n",
    "\n",
    "from src.utils.helpers import makedir\n",
    "from src.models import seg_model\n",
    "from src.training import push\n",
    "from src.training import prune\n",
    "from src.training import train_and_test as tnt\n",
    "\n",
    "from src.utils import save\n",
    "from src.utils.log import create_logger\n",
    "import logging\n",
    "from src.data.raman_dataset import get_new_raman_path, create_raman_mask_dataloaders_from_ids\n",
    "\n",
    "import matplotlib.pyplot as plt"
   ]
  },
  {
   "cell_type": "code",
   "execution_count": 2,
   "id": "198e2b0e",
   "metadata": {},
   "outputs": [],
   "source": [
    "logging.basicConfig(level=logging.INFO)"
   ]
  },
  {
   "cell_type": "code",
   "execution_count": 3,
   "id": "237655f5",
   "metadata": {},
   "outputs": [
    {
     "name": "stderr",
     "output_type": "stream",
     "text": [
      "/tmp/ipykernel_1149613/1248267068.py:3: FutureWarning: You are using `torch.load` with `weights_only=False` (the current default value), which uses the default pickle module implicitly. It is possible to construct malicious pickle data which will execute arbitrary code during unpickling (See https://github.com/pytorch/pytorch/blob/main/SECURITY.md#untrusted-models for more details). In a future release, the default value for `weights_only` will be flipped to `True`. This limits the functions that could be executed during unpickling. Arbitrary objects will no longer be allowed to be loaded via this mode unless they are explicitly allowlisted by the user via `torch.serialization.add_safe_globals`. We recommend you start setting `weights_only=True` for any use case where you don't have full control of the loaded file. Please open an issue on GitHub for any issues related to this experimental feature.\n",
      "  model = torch.load(model_path)\n"
     ]
    },
    {
     "data": {
      "text/plain": [
       "PPNet(\n",
       "\tfeatures: resnet18_features,\n",
       "\timg_size: 512,\n",
       "\tprototype_shape: (30, 64, 1, 1),\n",
       "\tproto_layer_rf_info: [16, 32, 435, 0.5],\n",
       "\tnum_classes: 2,\n",
       "\tepsilon: 0.0001\n",
       ")"
      ]
     },
     "execution_count": 3,
     "metadata": {},
     "output_type": "execute_result"
    }
   ],
   "source": [
    "model_path = \"out_model/saved_models/resnet18/optuna_trial_0/11_0push0.7119.pth\"\n",
    "# load the model\n",
    "model = torch.load(model_path)\n",
    "model"
   ]
  },
  {
   "cell_type": "code",
   "execution_count": 4,
   "id": "6b9ab72e",
   "metadata": {},
   "outputs": [],
   "source": [
    "# config for training\n",
    "config_file = \"./configs/unet_segment_newdata.yaml\"\n",
    "with open(config_file, \"r\") as stream:\n",
    "    conf = yaml.safe_load(stream)\n",
    "conf[\"training\"][\"stride\"] = [512, 512]"
   ]
  },
  {
   "cell_type": "markdown",
   "id": "9bce72f4",
   "metadata": {},
   "source": [
    "# Check generation"
   ]
  },
  {
   "cell_type": "code",
   "execution_count": 5,
   "id": "b63f6d74",
   "metadata": {},
   "outputs": [],
   "source": [
    "def collect_raman_channels(raman_id):\n",
    "    \"\"\"\n",
    "    Load and combine SRS, DC, and AUX channels into a single torch tensor.\n",
    "\n",
    "    Channels:\n",
    "     - 0-20: SRS\n",
    "     - 21   : DC\n",
    "     - 22-23: AUX\n",
    "\n",
    "    Returns:\n",
    "        torch.FloatTensor of shape (24, H, W)\n",
    "    \"\"\"\n",
    "    # get the paths to your data files\n",
    "    raman_paths = get_new_raman_path(raman_id)\n",
    "\n",
    "    # load SRS-normalized data (shape: H x W x C>=24)\n",
    "    srs_norm_np = np.load(raman_paths[\"srs_norm\"], mmap_mode='r')\n",
    "    H, W = srs_norm_np.shape[:2]\n",
    "\n",
    "    # extract the 21 SRS channels (0–20) and the 2 AUX channels (22–23)\n",
    "    srs = srs_norm_np[:, :, :21]  # (H, W, 21)\n",
    "    aux = srs_norm_np[:, :, 22:24]  # (H, W,  2)\n",
    "\n",
    "    # load raw DC data (e.g. H x W x N), collapse the 3rd dim by mean\n",
    "    dc_orig_np = np.load(raman_paths[\"dc_orig\"], mmap_mode='r')\n",
    "    dc = np.mean(dc_orig_np, axis=2)  # (H, W)\n",
    "\n",
    "    # convert to torch and reorder to (C, H, W)\n",
    "    srs_t = torch.from_numpy(srs).float().permute(2, 0, 1)  # (21, H, W)\n",
    "    dc_t = torch.from_numpy(dc).float().unsqueeze(0)  # ( 1, H, W)\n",
    "    aux_t = torch.from_numpy(aux).float().permute(2, 0, 1)  # ( 2, H, W)\n",
    "\n",
    "    # normalize DC to [0,1]\n",
    "    dc_min, dc_max = dc_t.min(), dc_t.max()\n",
    "    if dc_max > dc_min:\n",
    "        dc_t = (dc_t - dc_min) / (dc_max - dc_min)\n",
    "    else:\n",
    "        dc_t = dc_t - dc_min\n",
    "\n",
    "    # stack into (24, H, W)\n",
    "    combined = torch.cat([srs_t, dc_t, aux_t], dim=0)\n",
    "    return combined\n"
   ]
  },
  {
   "cell_type": "code",
   "execution_count": 6,
   "id": "f3175bcb",
   "metadata": {},
   "outputs": [
    {
     "name": "stderr",
     "output_type": "stream",
     "text": [
      "/tmp/ipykernel_1149613/750622195.py:29: UserWarning: The given NumPy array is not writable, and PyTorch does not support non-writable tensors. This means writing to this tensor will result in undefined behavior. You may want to copy the array to protect its data or make it writable before converting it to a tensor. This type of warning will be suppressed for the rest of this program. (Triggered internally at /home/conda/feedstock_root/build_artifacts/libtorch_1736238290654/work/torch/csrc/utils/tensor_numpy.cpp:206.)\n",
      "  srs_t = torch.from_numpy(srs).float().permute(2, 0, 1)  # (21, H, W)\n"
     ]
    },
    {
     "data": {
      "text/plain": [
       "torch.Size([24, 4608, 9984])"
      ]
     },
     "execution_count": 6,
     "metadata": {},
     "output_type": "execute_result"
    }
   ],
   "source": [
    "raman_id = 'E919-24_sample2_1'\n",
    "raman_channels = collect_raman_channels(raman_id)\n",
    "raman_channels.shape"
   ]
  },
  {
   "cell_type": "code",
   "execution_count": 7,
   "id": "b2bdf62a",
   "metadata": {},
   "outputs": [],
   "source": [
    "def load_gt_mask(raman_id, new_w, new_h):\n",
    "    gt_mask_path = f\"/home/ct678/aligned_masks/{raman_id}.npy\"\n",
    "    gt_mask = np.load(gt_mask_path, mmap_mode='r')\n",
    "    gt_mask = cv2.resize(gt_mask, (new_w, new_h), interpolation=cv2.INTER_NEAREST)\n",
    "\n",
    "    gt_mask[gt_mask == 1] = 1\n",
    "    gt_mask[gt_mask == 4] = 1\n",
    "    gt_mask[gt_mask == 15] = 1\n",
    "    gt_mask[gt_mask != 1] = 0\n",
    "    return gt_mask\n",
    "\n",
    "gt_mask = load_gt_mask(raman_id, raman_channels.shape[2], raman_channels.shape[1])"
   ]
  },
  {
   "cell_type": "code",
   "execution_count": 8,
   "id": "76dfbc50",
   "metadata": {},
   "outputs": [],
   "source": [
    "ph, pw = conf[\"training\"][\"patch_size\"]\n",
    "def patchify(big_img_chw):\n",
    "    \"\"\"\n",
    "    Patchifies an image (C, H, W) into patches (N, C, ph, pw).\n",
    "    Note: This version crops the image if H or W are not multiples of ph or pw.\n",
    "    \"\"\"\n",
    "    C, H, W = big_img_chw.shape\n",
    "    # Calculate how many patches fit along height and width\n",
    "    num_patches_h = H // ph\n",
    "    num_patches_w = W // pw\n",
    "\n",
    "    # Crop the image to the largest size that is perfectly divisible\n",
    "    cropped_h = num_patches_h * ph\n",
    "    cropped_w = num_patches_w * pw\n",
    "    cropped_img = big_img_chw[:, :cropped_h, :cropped_w]\n",
    "\n",
    "    # unfold expects (C, H, W)\n",
    "    # Output of unfold: (C, num_blocks_h, num_blocks_w, ph, pw)\n",
    "    patches = cropped_img.unfold(1, ph, ph).unfold(2, pw, pw)\n",
    "    # patches shape: (C, num_patches_h, num_patches_w, ph, pw)\n",
    "\n",
    "    # Permute and reshape to (num_patches_h * num_patches_w, C, ph, pw)\n",
    "    patches = patches.permute(1, 2, 0, 3, 4).contiguous()\n",
    "    # patches shape: (num_patches_h, num_patches_w, C, ph, pw)\n",
    "    patches = patches.view(-1, C, ph, pw)\n",
    "    # patches shape: (num_total_patches, C, ph, pw)\n",
    "    return patches, (C, cropped_h, cropped_w) # Return patches and the shape they can reconstruct\n",
    "\n",
    "def unpatchify(patches, reconstructed_shape_chw):\n",
    "    \"\"\"\n",
    "    Reconstructs the image from patches.\n",
    "    patches: (N, C, ph, pw)\n",
    "    reconstructed_shape_chw: The target shape (C, H_reconstructed, W_reconstructed)\n",
    "                             This should be the shape of the image that was patchified\n",
    "                             (i.e., potentially cropped original image).\n",
    "    \"\"\"\n",
    "    C, H_reconstructed, W_reconstructed = reconstructed_shape_chw\n",
    "    num_patches_h = H_reconstructed // ph\n",
    "    num_patches_w = W_reconstructed // pw\n",
    "\n",
    "    if patches.shape[0] != num_patches_h * num_patches_w:\n",
    "        raise ValueError(f\"Number of patches {patches.shape[0]} does not match \"\n",
    "                         f\"expected {num_patches_h * num_patches_w} for shape {reconstructed_shape_chw}\")\n",
    "    if patches.shape[1] != C:\n",
    "        raise ValueError(f\"Patch channel count {patches.shape[1]} does not match \"\n",
    "                         f\"expected {C} for shape {reconstructed_shape_chw}\")\n",
    "\n",
    "\n",
    "    # Reshape to (num_patches_h, num_patches_w, C, ph, pw)\n",
    "    patches = patches.view(num_patches_h, num_patches_w, C, ph, pw)\n",
    "\n",
    "    # Permute to (C, num_patches_h, ph, num_patches_w, pw)\n",
    "    # This groups patch data by channel, then by patch rows, then patch content height,\n",
    "    # then by patch columns, then patch content width.\n",
    "    rearranged = patches.permute(2, 0, 3, 1, 4).contiguous()\n",
    "\n",
    "    # Reshape to (C, H_reconstructed, W_reconstructed)\n",
    "    return rearranged.view(C, H_reconstructed, W_reconstructed)"
   ]
  },
  {
   "cell_type": "code",
   "execution_count": 9,
   "id": "7b1b61e9",
   "metadata": {},
   "outputs": [
    {
     "data": {
      "text/plain": [
       "(torch.Size([171, 24, 512, 512]), (24, 4608, 9728))"
      ]
     },
     "execution_count": 9,
     "metadata": {},
     "output_type": "execute_result"
    }
   ],
   "source": [
    "patched_raman, recon_shape = patchify(raman_channels)\n",
    "patched_raman.shape, recon_shape"
   ]
  },
  {
   "cell_type": "code",
   "execution_count": 10,
   "id": "16ab0be8",
   "metadata": {},
   "outputs": [
    {
     "name": "stderr",
     "output_type": "stream",
     "text": [
      "Processing patches: 0it [00:00, ?it/s]"
     ]
    },
    {
     "name": "stderr",
     "output_type": "stream",
     "text": [
      "Processing patches: 171it [00:01, 92.13it/s] \n"
     ]
    },
    {
     "data": {
      "text/plain": [
       "torch.Size([1, 4608, 9728])"
      ]
     },
     "execution_count": 10,
     "metadata": {},
     "output_type": "execute_result"
    }
   ],
   "source": [
    "seg_mask_patches = torch.zeros(patched_raman.shape[0], 1, ph, pw)\n",
    "for i, patch in tqdm(enumerate(patched_raman), desc=\"Processing patches\"):\n",
    "    patch = patch.cuda()\n",
    "    with torch.inference_mode():\n",
    "        patch = patch.unsqueeze(0)\n",
    "        logits, _ = model(patch)\n",
    "        pred = torch.argmax(logits, dim=1).squeeze(0)\n",
    "    seg_mask_patches[i, 0] = pred\n",
    "seg_mask = unpatchify(seg_mask_patches, (1, *recon_shape[1:]))\n",
    "seg_mask.shape"
   ]
  },
  {
   "cell_type": "code",
   "execution_count": 11,
   "id": "f64fd578",
   "metadata": {},
   "outputs": [
    {
     "name": "stdout",
     "output_type": "stream",
     "text": [
      "Dice score: 0.7100\n"
     ]
    }
   ],
   "source": [
    "cropped_gt_mask = gt_mask[:seg_mask.shape[1], :seg_mask.shape[2]]\n",
    "intersection = np.sum(seg_mask.squeeze().numpy() * cropped_gt_mask.squeeze())\n",
    "union = np.sum(seg_mask.squeeze().numpy()) + np.sum(cropped_gt_mask.squeeze())\n",
    "dice_score = 2 * intersection / union if union > 0 else 0\n",
    "print(f\"Dice score: {dice_score:.4f}\")"
   ]
  },
  {
   "cell_type": "code",
   "execution_count": 12,
   "id": "9f31e479",
   "metadata": {},
   "outputs": [
    {
     "data": {
      "text/plain": [
       "<matplotlib.image.AxesImage at 0x73243df51250>"
      ]
     },
     "execution_count": 12,
     "metadata": {},
     "output_type": "execute_result"
    },
    {
     "data": {
      "image/png": "[encoded data removed]",
      "text/plain": [
       "<Figure size 640x480 with 1 Axes>"
      ]
     },
     "metadata": {},
     "output_type": "display_data"
    }
   ],
   "source": [
    "plt.imshow(seg_mask[0].cpu().numpy(), cmap='gray')"
   ]
  },
  {
   "cell_type": "markdown",
   "id": "b97b4956",
   "metadata": {},
   "source": [
    "# Mean Dice Score on Val/Test"
   ]
  },
  {
   "cell_type": "code",
   "execution_count": 13,
   "id": "c25ef3cb",
   "metadata": {},
   "outputs": [],
   "source": [
    "holdout_ids = [\n",
    "    \"E119-24_sample1_1-half1\",\n",
    "    \"E119-24_sample1_2\",\n",
    "    \"E119-24_sample2_1_half1\",\n",
    "    \"E119-24_sample2_1_half2\",\n",
    "    \"E919-24_sample1_1\",\n",
    "    \"E919-24_sample1_2\",\n",
    "    \"E919-24_sample2_1\",\n",
    "    \"E919-24_sample2_2\",\n",
    "] + [\n",
    "    \"E341-24_sample3\",\n",
    "    \"E341-24_sample4\",\n",
    "    \"E341-24_sample5\",\n",
    "    \"E341-24_sample6\",\n",
    "    \"E341-24_sample7\",\n",
    "]"
   ]
  },
  {
   "cell_type": "code",
   "execution_count": 14,
   "id": "ef857d06",
   "metadata": {},
   "outputs": [],
   "source": [
    "def calculate_dice_score(pred_mask, gt_mask):\n",
    "    \"\"\"\n",
    "    Calculates the Dice similarity coefficient.\n",
    "\n",
    "    Args:\n",
    "        pred_mask (np.ndarray): The predicted segmentation mask.\n",
    "        gt_mask (np.ndarray): The ground truth mask.\n",
    "\n",
    "    Returns:\n",
    "        float: The Dice score.\n",
    "    \"\"\"\n",
    "    intersection = np.sum(pred_mask * gt_mask)\n",
    "    union = np.sum(pred_mask) + np.sum(gt_mask)\n",
    "    dice = (2.0 * intersection) / union if union > 0 else 0.0\n",
    "    return dice\n",
    "\n",
    "def calculate_sensitivity(pred_mask, gt_mask):\n",
    "    \"\"\"\n",
    "    Calculates the sensitivity (true positive rate).\n",
    "\n",
    "    Args:\n",
    "        pred_mask (np.ndarray): The predicted segmentation mask.\n",
    "        gt_mask (np.ndarray): The ground truth mask.\n",
    "\n",
    "    Returns:\n",
    "        float: The sensitivity score.\n",
    "    \"\"\"\n",
    "    true_positives = np.sum(pred_mask * gt_mask)\n",
    "    actual_positives = np.sum(gt_mask)\n",
    "    sensitivity = true_positives / actual_positives if actual_positives > 0 else 0.0\n",
    "    return sensitivity\n",
    "\n",
    "def calculate_specificity(pred_mask, gt_mask):\n",
    "    \"\"\"\n",
    "    Calculates the specificity (true negative rate).\n",
    "\n",
    "    Args:\n",
    "        pred_mask (np.ndarray): The predicted segmentation mask.\n",
    "        gt_mask (np.ndarray): The ground truth mask.\n",
    "\n",
    "    Returns:\n",
    "        float: The specificity score.\n",
    "    \"\"\"\n",
    "    true_negatives = np.sum((1 - pred_mask) * (1 - gt_mask))\n",
    "    actual_negatives = np.sum(1 - gt_mask)\n",
    "    specificity = true_negatives / actual_negatives if actual_negatives > 0 else 0.0\n",
    "    return specificity"
   ]
  },
  {
   "cell_type": "code",
   "execution_count": 15,
   "id": "2bedcd9d",
   "metadata": {},
   "outputs": [
    {
     "name": "stderr",
     "output_type": "stream",
     "text": [
      "Processing patches for E119-24_sample1_1-half1: 180it [00:00, 185.40it/s]\n"
     ]
    },
    {
     "name": "stdout",
     "output_type": "stream",
     "text": [
      "Raman ID: E119-24_sample1_1-half1, Dice: 0.4938, Sensitivity: 0.9719, Specificity: 0.7491\n"
     ]
    },
    {
     "name": "stderr",
     "output_type": "stream",
     "text": [
      "Processing patches for E119-24_sample1_2: 72it [00:00, 189.54it/s]\n"
     ]
    },
    {
     "name": "stdout",
     "output_type": "stream",
     "text": [
      "Raman ID: E119-24_sample1_2, Dice: 0.3318, Sensitivity: 0.9162, Specificity: 0.7120\n"
     ]
    },
    {
     "name": "stderr",
     "output_type": "stream",
     "text": [
      "Processing patches for E119-24_sample2_1_half1: 180it [00:01, 127.14it/s]\n"
     ]
    },
    {
     "name": "stdout",
     "output_type": "stream",
     "text": [
      "Raman ID: E119-24_sample2_1_half1, Dice: 0.6426, Sensitivity: 0.9399, Specificity: 0.8055\n"
     ]
    },
    {
     "name": "stderr",
     "output_type": "stream",
     "text": [
      "Processing patches for E119-24_sample2_1_half2: 180it [00:01, 175.86it/s]\n"
     ]
    },
    {
     "name": "stdout",
     "output_type": "stream",
     "text": [
      "Raman ID: E119-24_sample2_1_half2, Dice: 0.4465, Sensitivity: 0.9137, Specificity: 0.8677\n"
     ]
    },
    {
     "name": "stderr",
     "output_type": "stream",
     "text": [
      "Processing patches for E919-24_sample1_1: 128it [00:00, 175.92it/s]\n"
     ]
    },
    {
     "name": "stdout",
     "output_type": "stream",
     "text": [
      "Raman ID: E919-24_sample1_1, Dice: 0.7001, Sensitivity: 0.8948, Specificity: 0.8143\n"
     ]
    },
    {
     "name": "stderr",
     "output_type": "stream",
     "text": [
      "Processing patches for E919-24_sample1_2: 105it [00:00, 184.22it/s]\n"
     ]
    },
    {
     "name": "stdout",
     "output_type": "stream",
     "text": [
      "Raman ID: E919-24_sample1_2, Dice: 0.7349, Sensitivity: 0.9883, Specificity: 0.7406\n"
     ]
    },
    {
     "name": "stderr",
     "output_type": "stream",
     "text": [
      "Processing patches for E919-24_sample2_1: 171it [00:00, 188.60it/s]\n"
     ]
    },
    {
     "name": "stdout",
     "output_type": "stream",
     "text": [
      "Raman ID: E919-24_sample2_1, Dice: 0.7100, Sensitivity: 0.9900, Specificity: 0.8471\n"
     ]
    },
    {
     "name": "stderr",
     "output_type": "stream",
     "text": [
      "Processing patches for E919-24_sample2_2: 171it [00:00, 182.55it/s]\n"
     ]
    },
    {
     "name": "stdout",
     "output_type": "stream",
     "text": [
      "Raman ID: E919-24_sample2_2, Dice: 0.7146, Sensitivity: 0.9521, Specificity: 0.8714\n"
     ]
    },
    {
     "name": "stderr",
     "output_type": "stream",
     "text": [
      "Processing patches for E341-24_sample3: 110it [00:00, 182.89it/s]\n"
     ]
    },
    {
     "name": "stdout",
     "output_type": "stream",
     "text": [
      "Raman ID: E341-24_sample3, Dice: 0.6483, Sensitivity: 0.9886, Specificity: 0.7862\n"
     ]
    },
    {
     "name": "stderr",
     "output_type": "stream",
     "text": [
      "Processing patches for E341-24_sample4: 110it [00:00, 189.25it/s]\n"
     ]
    },
    {
     "name": "stdout",
     "output_type": "stream",
     "text": [
      "Raman ID: E341-24_sample4, Dice: 0.6150, Sensitivity: 0.9996, Specificity: 0.7437\n"
     ]
    },
    {
     "name": "stderr",
     "output_type": "stream",
     "text": [
      "Processing patches for E341-24_sample5: 110it [00:00, 174.77it/s]\n"
     ]
    },
    {
     "name": "stdout",
     "output_type": "stream",
     "text": [
      "Raman ID: E341-24_sample5, Dice: 0.6245, Sensitivity: 0.9918, Specificity: 0.7765\n"
     ]
    },
    {
     "name": "stderr",
     "output_type": "stream",
     "text": [
      "Processing patches for E341-24_sample6: 110it [00:00, 174.15it/s]\n"
     ]
    },
    {
     "name": "stdout",
     "output_type": "stream",
     "text": [
      "Raman ID: E341-24_sample6, Dice: 0.6109, Sensitivity: 0.9936, Specificity: 0.7640\n"
     ]
    },
    {
     "name": "stderr",
     "output_type": "stream",
     "text": [
      "Processing patches for E341-24_sample7: 99it [00:00, 159.59it/s]\n"
     ]
    },
    {
     "name": "stdout",
     "output_type": "stream",
     "text": [
      "Raman ID: E341-24_sample7, Dice: 0.6071, Sensitivity: 0.9621, Specificity: 0.7617\n",
      "Average Dice score: 0.6062\n",
      "Average Sensitivity: 0.9617\n",
      "Average Specificity: 0.7877\n"
     ]
    }
   ],
   "source": [
    "dice_scores, sens, specs = [], [], []\n",
    "for raman_id in holdout_ids:\n",
    "    raman_channels = collect_raman_channels(raman_id)\n",
    "    gt_mask = load_gt_mask(raman_id, raman_channels.shape[2], raman_channels.shape[1])\n",
    "    patched_raman, recon_shape = patchify(raman_channels)\n",
    "\n",
    "    seg_mask_patches = torch.zeros(patched_raman.shape[0], 1, ph, pw)\n",
    "    for i, patch in tqdm(enumerate(patched_raman), desc=f\"Processing patches for {raman_id}\"):\n",
    "        patch = patch.cuda()\n",
    "        with torch.inference_mode():\n",
    "            patch = patch.unsqueeze(0)\n",
    "            logits, _ = model(patch)\n",
    "            pred = torch.argmax(logits, dim=1).squeeze(0)\n",
    "        seg_mask_patches[i, 0] = pred\n",
    "    seg_mask = unpatchify(seg_mask_patches, (1, *recon_shape[1:]))\n",
    "    padded_seg_mask = torch.zeros(gt_mask.shape[0], gt_mask.shape[1])\n",
    "    padded_seg_mask[:seg_mask.shape[1], :seg_mask.shape[2]] = seg_mask.squeeze(0).cpu()\n",
    "\n",
    "    dice_score = calculate_dice_score(padded_seg_mask.numpy(), gt_mask)\n",
    "    sensitivity = calculate_sensitivity(padded_seg_mask.numpy(), gt_mask)\n",
    "    specificity = calculate_specificity(padded_seg_mask.numpy(), gt_mask)\n",
    "\n",
    "    dice_scores.append(dice_score)\n",
    "    sens.append(sensitivity)\n",
    "    specs.append(specificity)\n",
    "    print(f\"Raman ID: {raman_id}, Dice: {dice_score:.4f}, Sensitivity: {sensitivity:.4f}, Specificity: {specificity:.4f}\")\n",
    "print(f\"Average Dice score: {np.mean(dice_scores):.4f}\")\n",
    "print(f\"Average Sensitivity: {np.mean(sens):.4f}\")\n",
    "print(f\"Average Specificity: {np.mean(specs):.4f}\")"
   ]
  },
  {
   "cell_type": "code",
   "execution_count": 17,
   "id": "3490f8b9",
   "metadata": {},
   "outputs": [
    {
     "name": "stdout",
     "output_type": "stream",
     "text": [
      "Mean Dice score: 0.6062, Std: 0.1126\n",
      "Mean Sensitivity: 0.9617, Std: 0.0341\n",
      "Mean Specificity: 0.7877, Std: 0.0486\n"
     ]
    }
   ],
   "source": [
    "dice_mean, dice_std = np.mean(dice_scores), np.std(dice_scores)\n",
    "print(f\"Mean Dice score: {dice_mean:.4f}, Std: {dice_std:.4f}\")\n",
    "sens_mean, sens_std = np.mean(sens), np.std(sens)\n",
    "print(f\"Mean Sensitivity: {sens_mean:.4f}, Std: {sens_std:.4f}\")\n",
    "specs_mean, specs_std = np.mean(specs), np.std(specs)\n",
    "print(f\"Mean Specificity: {specs_mean:.4f}, Std: {specs_std:.4f}\")"
   ]
  },
  {
   "cell_type": "code",
   "execution_count": null,
   "id": "e0172c0e",
   "metadata": {},
   "outputs": [],
   "source": []
  }
 ],
 "metadata": {
  "kernelspec": {
   "display_name": "charm-env",
   "language": "python",
   "name": "python3"
  },
  "language_info": {
   "codemirror_mode": {
    "name": "ipython",
    "version": 3
   },
   "file_extension": ".py",
   "mimetype": "text/x-python",
   "name": "python",
   "nbconvert_exporter": "python",
   "pygments_lexer": "ipython3",
   "version": "3.11.11"
  }
 },
 "nbformat": 4,
 "nbformat_minor": 5
}
